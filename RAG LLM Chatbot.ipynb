{
 "cells": [
  {
   "cell_type": "code",
   "execution_count": 1,
   "id": "5c718dda-6afd-4f15-8e3e-7a14e44b8a2b",
   "metadata": {},
   "outputs": [],
   "source": [
    "from langchain_community.document_loaders import TextLoader\n",
    "\n",
    "loader =  TextLoader(\"Banking FAQS.txt\")\n",
    "data = loader.load()\n",
    "#data"
   ]
  },
  {
   "cell_type": "code",
   "execution_count": 2,
   "id": "bbcb4bff-73d6-4e87-b250-495a52e946af",
   "metadata": {},
   "outputs": [
    {
     "name": "stdout",
     "output_type": "stream",
     "text": [
      "Total number of documents: 45\n"
     ]
    }
   ],
   "source": [
    "from langchain.text_splitter import RecursiveCharacterTextSplitter\n",
    "\n",
    "#split data\n",
    "text_splitter = RecursiveCharacterTextSplitter(chunk_size=1000)\n",
    "docs = text_splitter.split_documents(data)\n",
    "\n",
    "print(\"Total number of documents:\", len(docs))"
   ]
  },
  {
   "cell_type": "code",
   "execution_count": 3,
   "id": "99c5eb99-b81f-4b64-a482-2ff2fd72c3fa",
   "metadata": {},
   "outputs": [
    {
     "data": {
      "text/plain": [
       "Document(metadata={'source': 'Banking FAQS.txt'}, page_content='Q: How Does A Customer Request A Cheque Book?\\nA: The customer will need to complete a cheque book requisition slip which can be gotten from any branch. Otherwise, the customer can write to the bank requesting a chequebook. In both cases, the request will need to be signed according to the mandate of the account. He can also apply via the Internet Banking platform or by self-service.\\nQ: How Long Does It Take For The Request To Be Processed?\\nA: It takes 24 hours for Lagos branches and 48 ” 72 hours for up-country branches (branches outside Lagos),\\nQ: How Many Leaves Are Contained In A Cheque Book And How Much Does It Cost?\\nA: A cheque book for an individual account may contain 20 or 50 leaves, and for a corporate account 50 or 100 leaves. 20leaves cost ₦525, 50leaves cost ₦1050 and 100leaves cost ₦2100.\\nQ: Can A Cheque Book Request Be Made In One Branch And The Cheque Book Collected From Another?')"
      ]
     },
     "execution_count": 3,
     "metadata": {},
     "output_type": "execute_result"
    }
   ],
   "source": [
    "docs[4]"
   ]
  },
  {
   "cell_type": "code",
   "execution_count": 9,
   "id": "0115cbe7-b63f-430e-8ba1-cac625f8e3b4",
   "metadata": {},
   "outputs": [
    {
     "data": {
      "text/plain": [
       "True"
      ]
     },
     "execution_count": 9,
     "metadata": {},
     "output_type": "execute_result"
    }
   ],
   "source": [
    "from langchain_chroma import Chroma\n",
    "from langchain_google_genai import GoogleGenerativeAIEmbeddings\n",
    "\n",
    "from dotenv import load_dotenv\n",
    "load_dotenv()"
   ]
  },
  {
   "cell_type": "code",
   "execution_count": 10,
   "id": "1e4ad7ce-ac0b-4aa4-996e-6022e3fe0475",
   "metadata": {},
   "outputs": [
    {
     "data": {
      "text/plain": [
       "[0.05168594419956207,\n",
       " -0.030764883384108543,\n",
       " -0.03062233328819275,\n",
       " -0.02802734263241291,\n",
       " 0.01813093200325966]"
      ]
     },
     "execution_count": 10,
     "metadata": {},
     "output_type": "execute_result"
    }
   ],
   "source": [
    "embeddings = GoogleGenerativeAIEmbeddings(model=\"models/embedding-001\")\n",
    "vector = embeddings.embed_query(\"hello, world!\")\n",
    "vector[:5]\n",
    "#vector"
   ]
  },
  {
   "cell_type": "code",
   "execution_count": 13,
   "id": "9a86909e-3815-4f56-ae09-efe782aa1079",
   "metadata": {},
   "outputs": [],
   "source": [
    " vectorstore = Chroma.from_documents(documents=docs, embedding=GoogleGenerativeAIEmbeddings(model=\"models/embedding-001\"))"
   ]
  },
  {
   "cell_type": "code",
   "execution_count": 16,
   "id": "d659fa8e-cece-4d40-a172-12daba27fe82",
   "metadata": {},
   "outputs": [],
   "source": [
    "retriever = vectorstore.as_retriever(search_type=\"similarity\", search_kwargs={\"k\": 10})\n",
    "\n",
    "retrieved_docs = retriever.invoke(\"What loans can i get\")"
   ]
  },
  {
   "cell_type": "code",
   "execution_count": 18,
   "id": "b402b515-6f8a-47ba-bf2b-f278e9469cc0",
   "metadata": {},
   "outputs": [
    {
     "data": {
      "text/plain": [
       "10"
      ]
     },
     "execution_count": 18,
     "metadata": {},
     "output_type": "execute_result"
    }
   ],
   "source": [
    "len(retrieved_docs)"
   ]
  },
  {
   "cell_type": "code",
   "execution_count": 20,
   "id": "b5a9eb46-2917-4db2-a48e-1f520a2390d9",
   "metadata": {},
   "outputs": [],
   "source": [
    "from langchain_google_genai import ChatGoogleGenerativeAI\n",
    "\n",
    "llm = ChatGoogleGenerativeAI(model=\"gemini-2.0-flash\", \n",
    "                             temperature=0.3, \n",
    "                             max_tokens=500)"
   ]
  },
  {
   "cell_type": "code",
   "execution_count": 32,
   "id": "c1163652-def7-41ff-92c4-fdbbaa6a77b9",
   "metadata": {},
   "outputs": [],
   "source": [
    "from langchain.chains import create_retrieval_chain\n",
    "from langchain.chains.combine_documents import create_stuff_documents_chain\n",
    "from langchain.prompts import ChatPromptTemplate\n",
    "\n",
    "system_prompt = (\n",
    "    \"\"\"\n",
    "    You are a customer support chatbot for answering customer-related queries.\n",
    "    Use the following pieces of retrieved context to answer the question.\n",
    "    If the answers are not in the context, you can answer to the best of your ability\n",
    "    but do not lie. If you do not know the answer, say that you do not know.\n",
    "    Use a concise and friendly tone and be professional and helpful.\n",
    "    \"\"\"\n",
    ")\n",
    "\n",
    "prompt = ChatPromptTemplate.from_messages(\n",
    "    [\n",
    "        (\"system\", system_prompt),\n",
    "        (\"system\", \"{context}\"),  \n",
    "        (\"human\", \"{input}\"),\n",
    "    ]\n",
    ")"
   ]
  },
  {
   "cell_type": "code",
   "execution_count": 33,
   "id": "cd5005a3-77ca-446c-a98d-d1e84596a716",
   "metadata": {},
   "outputs": [],
   "source": [
    "question_answer_chain = create_stuff_documents_chain(llm, prompt)\n",
    "rag_chain = create_retrieval_chain(retriever, question_answer_chain)"
   ]
  },
  {
   "cell_type": "code",
   "execution_count": 35,
   "id": "28b21aec-fd19-4903-8cc4-d5c7c49fe73e",
   "metadata": {},
   "outputs": [
    {
     "name": "stdout",
     "output_type": "stream",
     "text": [
      "To open a salary account, your company/organization will need to write a letter to the bank introducing you as a prospective account holder.\n",
      "\n",
      "Alternatively, accounts can be opened with any amount or with Zero balance as there is no minimum account opening amount requirement for all account classes with the exception of our Gold and Platinum Accounts that have a N1 million and N3 million requirement respectively. Accounts are opened within 24 hours upon submission of complete documentation.\n"
     ]
    }
   ],
   "source": [
    "response = rag_chain.invoke({\"input\": \"How do i open an account\"})\n",
    "print(response[\"answer\"])"
   ]
  },
  {
   "cell_type": "code",
   "execution_count": null,
   "id": "e6083d43-05a6-47e5-83c2-058ac364edd3",
   "metadata": {},
   "outputs": [],
   "source": []
  }
 ],
 "metadata": {
  "kernelspec": {
   "display_name": "Anaconda (tf_env)",
   "language": "python",
   "name": "anaconda-tf_env"
  },
  "language_info": {
   "codemirror_mode": {
    "name": "ipython",
    "version": 3
   },
   "file_extension": ".py",
   "mimetype": "text/x-python",
   "name": "python",
   "nbconvert_exporter": "python",
   "pygments_lexer": "ipython3",
   "version": "3.10.16"
  }
 },
 "nbformat": 4,
 "nbformat_minor": 5
}
